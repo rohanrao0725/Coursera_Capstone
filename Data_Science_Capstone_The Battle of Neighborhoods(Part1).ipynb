{
 "cells": [
  {
   "cell_type": "markdown",
   "metadata": {},
   "source": [
    "# Capstone Project - The Battle of the Neighborhoods (Part1)\n",
    "### Applied Data Science Capstone by IBM/Coursera"
   ]
  },
  {
   "cell_type": "markdown",
   "metadata": {},
   "source": [
    "### Table of contents\n",
    "* [Introduction: Business Problem](#introduction)\n",
    "* [Data](#data)"
   ]
  },
  {
   "cell_type": "markdown",
   "metadata": {},
   "source": [
    "## Introduction: Business Problem <a name=\"introduction\"></a>"
   ]
  },
  {
   "cell_type": "markdown",
   "metadata": {},
   "source": [
    "In this project, we will try to find similarity within the city's neighborhoods, if a user or agent wants to move or shift from his current city locality to another city. \n",
    "The target audience or the stakeholders can be either an individual looking to relocate or a business contractor who wants to start or expand his business to new city. This project will focus on 3 cities **London, Sydney and Singapore**. It's all about **understanding the locality**\n",
    "\n",
    "Moving or establishing to a new city is always exciting. However, with the excitement comes difficulties. Sometimes, essentials such as food, transportation, water, accommodation, competitors, supplies etc. need more focus and planning.\n",
    "Also comes the **Cultural Shocks**.\n",
    "\n",
    "We will use our data science powers to generate a few most promissing neighborhoods based on the stakeholders criteria, **recommend them a cluster of Neighborhoods with desired venues based on thier choice of city**."
   ]
  },
  {
   "cell_type": "markdown",
   "metadata": {},
   "source": [
    "<img src='./img/House.png'>Importance of House</img>"
   ]
  },
  {
   "cell_type": "markdown",
   "metadata": {},
   "source": [
    "<img src='./img/Location.png'>Importance of Business Location</img>"
   ]
  },
  {
   "cell_type": "markdown",
   "metadata": {},
   "source": [
    "## Data <a name=\"data\"></a>"
   ]
  },
  {
   "cell_type": "markdown",
   "metadata": {},
   "source": [
    "Business problem defines the factors that will influence our decisions and recommendations which are:\n",
    "* Cities with business facilities\n",
    "* Location within the city closer to the centre of the city\n",
    "* Location co-ordinates mathcing the cities co-ordinates, as many areas or Borough exist in multiple cities.\n",
    "\n",
    "Dataset used for the projects are collected to generate the required information are:\n",
    "* **Geoname Dataset** for countries of **GB(Great Britain), AU(Australia), SG(Singapore)**, from the website www.geonames.org. \n",
    "* Various venues and their type and location in every neighborhood within each city will be obtained using **Foursquare API**\n",
    "\n",
    "The above datasets will be used to create city based maps and find the neighborhood locations within the city using latitude and longitude co-ordinates. \n",
    "Foursquare API will give the types of venues for each neighborhoods so that they can be clustered among themselves to find related neighborhoods and recommend neighborhoods."
   ]
  }
 ],
 "metadata": {
  "kernelspec": {
   "display_name": "Python 3",
   "language": "python",
   "name": "python3"
  },
  "language_info": {
   "codemirror_mode": {
    "name": "ipython",
    "version": 3
   },
   "file_extension": ".py",
   "mimetype": "text/x-python",
   "name": "python",
   "nbconvert_exporter": "python",
   "pygments_lexer": "ipython3",
   "version": "3.7.6"
  }
 },
 "nbformat": 4,
 "nbformat_minor": 4
}
